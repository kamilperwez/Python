{
 "cells": [
  {
   "cell_type": "code",
   "execution_count": 1,
   "id": "fa810446",
   "metadata": {},
   "outputs": [],
   "source": [
    "# to print gaming board\n",
    "from IPython.display import clear_output\n",
    "def print_board(board):\n",
    "    clear_output()\n",
    "    print(' ',board[1],' | ',board[2],' | ',board[3])\n",
    "    print('________________')\n",
    "    print(' ',board[4],' | ',board[5],' | ',board[6])\n",
    "    print('________________')\n",
    "    print(' ',board[7],' | ',board[8],' | ',board[9])\n"
   ]
  },
  {
   "cell_type": "code",
   "execution_count": 2,
   "id": "baffce74",
   "metadata": {},
   "outputs": [],
   "source": [
    "# to get input for entering at particular place\n",
    "def playerinput():\n",
    "    while 1>0:\n",
    "        key=int(input('Enter the position to enter your symbol 1-9'))\n",
    "        if key>=1 and key<=9 :\n",
    "            return key\n",
    "        else:\n",
    "            print('Wrong Position')\n",
    " \n",
    "\n",
    "   "
   ]
  },
  {
   "cell_type": "code",
   "execution_count": 3,
   "id": "0e381d36",
   "metadata": {},
   "outputs": [],
   "source": [
    "# to assign 'X' or 'O' at particular space\n",
    "def boardasn(board,key,mark):\n",
    "          board[key]=mark\n",
    "          print_board(board)\n",
    "        \n",
    "                "
   ]
  },
  {
   "cell_type": "code",
   "execution_count": 4,
   "id": "d4e27408",
   "metadata": {},
   "outputs": [],
   "source": [
    "# to check for possible win\n",
    "def win_check(board,mark):\n",
    "    \n",
    "    return ((board[7] == mark and board[8] == mark and board[9] == mark) or # across the top\n",
    "    (board[4] == mark and board[5] == mark and board[6] == mark) or # across the middle\n",
    "    (board[1] == mark and board[2] == mark and board[3] == mark) or # across the bottom\n",
    "    (board[7] == mark and board[4] == mark and board[1] == mark) or # down the middle\n",
    "    (board[8] == mark and board[5] == mark and board[2] == mark) or # down the middle\n",
    "    (board[9] == mark and board[6] == mark and board[3] == mark) or # down the right side\n",
    "    (board[7] == mark and board[5] == mark and board[3] == mark) or # diagonal\n",
    "    (board[9] == mark and board[5] == mark and board[1] == mark)) # diagonal"
   ]
  },
  {
   "cell_type": "code",
   "execution_count": 5,
   "id": "8a2f2339",
   "metadata": {},
   "outputs": [],
   "source": [
    "# complete basic gameplay\n",
    "def gameplay():\n",
    "    print('Welcome to Tic Tac Toe game')\n",
    "    check ='true'\n",
    "    P1,P2='',''\n",
    "    key,turn=0,1\n",
    "    mboard=[' ']*10\n",
    "    while check:\n",
    "        P1=input('Please Select \"X\" or \"O\"').upper()\n",
    "        if P1=='X':\n",
    "                 P2='O'\n",
    "                 break\n",
    "        elif P1=='O':\n",
    "                 P2='X'\n",
    "                 break\n",
    "        else :\n",
    "                 print('Enter Correct Symbol')\n",
    "                             \n",
    "    while True:\n",
    "                if turn==1:\n",
    "                          key=playerinput()\n",
    "                          while 1>0:\n",
    "                                             if checkspace(mboard,key):\n",
    "                                                       boardasn(mboard,key,P1)\n",
    "                                                       break\n",
    "                                             else :\n",
    "                                                       print('Already filled,enter in empty place plz Player 1 as ',P1)\n",
    "                                                       key=playerinput()\n",
    "                          if win_check(mboard,P1):\n",
    "                                         print('Player 1 has won')\n",
    "                                         break    \n",
    "                          elif fullcheck(mboard):\n",
    "                            print('Match draw')\n",
    "                            break\n",
    "                          else:\n",
    "                            turn=2\n",
    "                            print('Pass the turn to Player 2: ',P2)\n",
    "                elif turn==2:\n",
    "                          key=playerinput()\n",
    "                          while 1>0:\n",
    "                                     if checkspace(mboard,key):\n",
    "                                                       boardasn(mboard,key,P2)\n",
    "                                                       break\n",
    "                                     else :\n",
    "                                                       print('Already filled,enter in empty place plz Player 2 as ',P2)\n",
    "                                                       key=playerinput()\n",
    "                                        \n",
    "    \n",
    "                          if win_check(mboard,P2):\n",
    "                                         print('Player 2 has won')\n",
    "                                         break\n",
    "                          elif fullcheck(mboard):\n",
    "                            print('Match draw')\n",
    "                            break\n",
    "                          else:\n",
    "                            turn=1\n",
    "                            print('Pass the turn to Player 1: ',P1)\n",
    "                          \n",
    "                 \n",
    "                 \n",
    "                    \n",
    "                 \n",
    "              \n"
   ]
  },
  {
   "cell_type": "code",
   "execution_count": 6,
   "id": "b8378a70",
   "metadata": {},
   "outputs": [],
   "source": [
    "# to check a particular space on board\n",
    "def checkspace(board,key):\n",
    "    return board[key] == ' '\n",
    "    "
   ]
  },
  {
   "cell_type": "code",
   "execution_count": 7,
   "id": "ba70b6a8",
   "metadata": {},
   "outputs": [],
   "source": [
    "# to check spaces on board and possible draw\n",
    "def fullcheck(board):\n",
    "    for i in range(1,10):\n",
    "        if checkspace(board,i):\n",
    "            return False\n",
    "    return True    \n",
    "    \n",
    "    "
   ]
  },
  {
   "cell_type": "code",
   "execution_count": 8,
   "id": "d1018e27",
   "metadata": {},
   "outputs": [],
   "source": [
    "# main function to invoke other function for complete gaming experience\n",
    "def main():\n",
    "    while True :\n",
    "        status=(input('Do You Want To Play GAME(Enter Y/N)')).upper()\n",
    "        if status=='Y':\n",
    "                 gameplay()\n",
    "        elif status=='N':\n",
    "                 print('Thank you for playing')\n",
    "                 break\n",
    "        else:\n",
    "                 print('Enter correct input Y/N')\n",
    "         \n",
    "    "
   ]
  },
  {
   "cell_type": "markdown",
   "id": "340a3ad2",
   "metadata": {},
   "source": [
    "main()\n",
    "  X  |  O  |  X\n",
    "________________\n",
    "  X  |  O  |  O\n",
    "________________\n",
    "  O  |  X  |  O\n",
    "Match draw\n",
    "Do You Want To Play GAME(Enter Y/N)n\n",
    "Thank you for playing"
   ]
  },
  {
   "cell_type": "markdown",
   "id": "2a25816a",
   "metadata": {},
   "source": []
  },
  {
   "cell_type": "code",
   "execution_count": 9,
   "id": "4c0176b5",
   "metadata": {},
   "outputs": [
    {
     "name": "stdout",
     "output_type": "stream",
     "text": [
      "  O  |  X  |  O\n",
      "________________\n",
      "  X  |  X  |  O\n",
      "________________\n",
      "  X  |  O  |  X\n",
      "Match draw\n",
      "Do You Want To Play GAME(Enter Y/N)N\n",
      "Thank you for playing\n"
     ]
    }
   ],
   "source": [
    "main()"
   ]
  },
  {
   "cell_type": "code",
   "execution_count": null,
   "id": "b074dd9f",
   "metadata": {},
   "outputs": [],
   "source": []
  }
 ],
 "metadata": {
  "kernelspec": {
   "display_name": "Python 3",
   "language": "python",
   "name": "python3"
  },
  "language_info": {
   "codemirror_mode": {
    "name": "ipython",
    "version": 3
   },
   "file_extension": ".py",
   "mimetype": "text/x-python",
   "name": "python",
   "nbconvert_exporter": "python",
   "pygments_lexer": "ipython3",
   "version": "3.8.8"
  }
 },
 "nbformat": 4,
 "nbformat_minor": 5
}
