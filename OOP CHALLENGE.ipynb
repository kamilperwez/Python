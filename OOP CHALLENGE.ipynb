{
 "cells": [
  {
   "cell_type": "code",
   "execution_count": 41,
   "id": "32e5a210",
   "metadata": {},
   "outputs": [],
   "source": [
    "class Account:\n",
    "    def __init__(self,owner,balance):\n",
    "        self.owner=owner\n",
    "        self.balance=balance\n",
    "    def deposit(self,amount):\n",
    "        self.balance=self.balance+amount\n",
    "        print(\"An amount of {} has been credited.Current Balance: {}\".format(amount,self.balance))\n",
    "    def withdrawal(self,amount):\n",
    "        if amount <= self.balance:  \n",
    "            self.balance=self.balance-amount\n",
    "            print(\"An amount of {} has been debited.Current Balance: {}\".format(amount,self.balance))\n",
    "        else:\n",
    "            print(\"Insufficient Funds.Available Balance :\",self.balance)\n",
    "    def __str__(self):\n",
    "        return 'Owner Name : {} \\nAccount Balance :{}'.format(self.owner,self.balance) \n",
    "        "
   ]
  },
  {
   "cell_type": "code",
   "execution_count": 42,
   "id": "0adf1320",
   "metadata": {},
   "outputs": [],
   "source": [
    "acc1=Account('Rahul',2500)"
   ]
  },
  {
   "cell_type": "code",
   "execution_count": 43,
   "id": "8a283795",
   "metadata": {},
   "outputs": [
    {
     "name": "stdout",
     "output_type": "stream",
     "text": [
      "Owner Name : Rahul \n",
      "Account Balance :2500\n"
     ]
    }
   ],
   "source": [
    "print(acc1)"
   ]
  },
  {
   "cell_type": "code",
   "execution_count": 44,
   "id": "567e274d",
   "metadata": {},
   "outputs": [
    {
     "name": "stdout",
     "output_type": "stream",
     "text": [
      "An amount of 45 has been credited.Current Balance: 2545\n"
     ]
    }
   ],
   "source": [
    "acc1.deposit(45)"
   ]
  },
  {
   "cell_type": "code",
   "execution_count": 45,
   "id": "7637c611",
   "metadata": {},
   "outputs": [
    {
     "name": "stdout",
     "output_type": "stream",
     "text": [
      "Insufficient Funds.Available Balance : 2545\n"
     ]
    }
   ],
   "source": [
    "acc1.withdrawal(5666)"
   ]
  },
  {
   "cell_type": "code",
   "execution_count": 46,
   "id": "8d7bc1eb",
   "metadata": {},
   "outputs": [
    {
     "data": {
      "text/plain": [
       "'Rahul'"
      ]
     },
     "execution_count": 46,
     "metadata": {},
     "output_type": "execute_result"
    }
   ],
   "source": [
    "acc1.owner"
   ]
  },
  {
   "cell_type": "code",
   "execution_count": 47,
   "id": "3dfada81",
   "metadata": {},
   "outputs": [
    {
     "data": {
      "text/plain": [
       "2545"
      ]
     },
     "execution_count": 47,
     "metadata": {},
     "output_type": "execute_result"
    }
   ],
   "source": [
    "acc1.balance"
   ]
  },
  {
   "cell_type": "code",
   "execution_count": null,
   "id": "d3ffa26d",
   "metadata": {},
   "outputs": [],
   "source": []
  }
 ],
 "metadata": {
  "kernelspec": {
   "display_name": "Python 3",
   "language": "python",
   "name": "python3"
  },
  "language_info": {
   "codemirror_mode": {
    "name": "ipython",
    "version": 3
   },
   "file_extension": ".py",
   "mimetype": "text/x-python",
   "name": "python",
   "nbconvert_exporter": "python",
   "pygments_lexer": "ipython3",
   "version": "3.8.8"
  }
 },
 "nbformat": 4,
 "nbformat_minor": 5
}
