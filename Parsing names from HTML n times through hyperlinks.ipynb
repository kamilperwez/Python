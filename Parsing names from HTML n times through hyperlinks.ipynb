{
 "cells": [
  {
   "cell_type": "code",
   "execution_count": null,
   "id": "023c5907",
   "metadata": {},
   "outputs": [],
   "source": [
    "import urllib.request, urllib.parse, urllib.error\n",
    "from bs4 import BeautifulSoup\n",
    "import ssl\n",
    "\n",
    "# Ignore SSL certificate errors\n",
    "ctx = ssl.create_default_context()\n",
    "ctx.check_hostname = False\n",
    "ctx.verify_mode = ssl.CERT_NONE\n",
    "\n",
    "url = input('Enter - ')\n",
    "html = urllib.request.urlopen(url, context=ctx).read()\n",
    "soup = BeautifulSoup(html, 'html.parser')\n",
    "\n",
    "# Retrieve all of the anchor tags\n",
    "tags = soup('a')\n",
    "for tag in tags:\n",
    "    print(tag.get('href', None))\n",
    "    print(type(tag.get('href', None)))\n"
   ]
  },
  {
   "cell_type": "code",
   "execution_count": 1,
   "id": "49492148",
   "metadata": {},
   "outputs": [
    {
     "name": "stdout",
     "output_type": "stream",
     "text": [
      "Enter URL- http://py4e-data.dr-chuck.net/known_by_Aleksander.html\n",
      "Enter the Name's position18\n",
      "Enter the no. of repeats7\n",
      "Hyperlink is  http://py4e-data.dr-chuck.net/known_by_Muneeba.html\n",
      "Associated Name is  Muneeba\n",
      "Hyperlink is  http://py4e-data.dr-chuck.net/known_by_Coel.html\n",
      "Associated Name is  Coel\n",
      "Hyperlink is  http://py4e-data.dr-chuck.net/known_by_Leyna.html\n",
      "Associated Name is  Leyna\n",
      "Hyperlink is  http://py4e-data.dr-chuck.net/known_by_Sonny.html\n",
      "Associated Name is  Sonny\n",
      "Hyperlink is  http://py4e-data.dr-chuck.net/known_by_Lusiana.html\n",
      "Associated Name is  Lusiana\n",
      "Hyperlink is  http://py4e-data.dr-chuck.net/known_by_Roxanna.html\n",
      "Associated Name is  Roxanna\n",
      "Hyperlink is  http://py4e-data.dr-chuck.net/known_by_Ikemsinachukwu.html\n",
      "Associated Name is  Ikemsinachukwu\n",
      "\n",
      " Done\n"
     ]
    }
   ],
   "source": [
    "#parsing names on html\n",
    "import urllib.request, urllib.parse, urllib.error\n",
    "from bs4 import BeautifulSoup\n",
    "import ssl\n",
    "\n",
    "# Ignore SSL certificate errors\n",
    "ctx = ssl.create_default_context()\n",
    "ctx.check_hostname = False\n",
    "ctx.verify_mode = ssl.CERT_NONE\n",
    "\n",
    "url = input('Enter URL- ')\n",
    "posn=int(input('Enter the Name\\'s position : '))\n",
    "count=int(input('Enter the no. of repeats : '))\n",
    "for i in range(count):\n",
    "    html = urllib.request.urlopen(url,context=ctx).read()\n",
    "    soup=BeautifulSoup(html,'html.parser')\n",
    "    tags=soup('a')\n",
    "    hyplnk,nme=[],[]\n",
    "    for tag in tags:\n",
    "        x=tag.get('href',None)\n",
    "        y=tag.text\n",
    "        hyplnk.append(x)\n",
    "        nme.append(y)\n",
    "    print('Hyperlink is ',hyplnk[posn-1])\n",
    "    print('Associated Name is ',nme[posn-1])      \n",
    "    url=hyplnk[posn-1]    \n",
    "print('\\n Done')\n",
    "\n",
    "\n",
    "\n"
   ]
  },
  {
   "cell_type": "code",
   "execution_count": null,
   "id": "de44da3e",
   "metadata": {},
   "outputs": [],
   "source": []
  }
 ],
 "metadata": {
  "kernelspec": {
   "display_name": "Python 3",
   "language": "python",
   "name": "python3"
  },
  "language_info": {
   "codemirror_mode": {
    "name": "ipython",
    "version": 3
   },
   "file_extension": ".py",
   "mimetype": "text/x-python",
   "name": "python",
   "nbconvert_exporter": "python",
   "pygments_lexer": "ipython3",
   "version": "3.8.8"
  }
 },
 "nbformat": 4,
 "nbformat_minor": 5
}
