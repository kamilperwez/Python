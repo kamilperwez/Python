{
 "cells": [
  {
   "cell_type": "code",
   "execution_count": 16,
   "id": "3e270218",
   "metadata": {},
   "outputs": [
    {
     "name": "stdout",
     "output_type": "stream",
     "text": [
      "Enter the name of the file\n",
      "Sum is  349279.0\n",
      "List of numbers is [8069.0, 3224.0, 3518.0, 6948.0, 9326.0, 1239.0, 6729.0, 6611.0, 3753.0, 1157.0, 8283.0, 870.0, 8518.0, 2652.0, 6280.0, 8297.0, 4096.0, 1934.0, 4272.0, 5281.0, 1682.0, 6025.0, 9674.0, 7964.0, 2270.0, 760.0, 1648.0, 3226.0, 8103.0, 3892.0, 1538.0, 5817.0, 4084.0, 431.0, 2469.0, 3600.0, 5533.0, 4.0, 442.0, 8819.0, 4078.0, 7113.0, 8426.0, 4030.0, 424.0, 2145.0, 4029.0, 5830.0, 1882.0, 2522.0, 6017.0, 513.0, 9439.0, 8648.0, 106.0, 7636.0, 1375.0, 5481.0, 8035.0, 9165.0, 3286.0, 4520.0, 3415.0, 4331.0, 9999.0, 4526.0, 9688.0, 6903.0, 7900.0, 960.0, 9064.0, 2657.0, 6049.0, 4.0, 3.0, 42.0]\n"
     ]
    }
   ],
   "source": [
    "import re\n",
    "file=input('Enter the name of the file')\n",
    "if len(file) < 1:\n",
    "    file ='extract_num.txt'\n",
    "hand=open(file)\n",
    "sum=0\n",
    "numl=list()\n",
    "for line in hand:\n",
    "    line=line.rstrip()\n",
    "    numw=re.findall('[0-9.]+',line)\n",
    "    if len(numw) <1:\n",
    "        continue\n",
    "    for n in numw:\n",
    "        try:\n",
    "            num=float(n)\n",
    "            numl.append(num)\n",
    "            sum=sum+num\n",
    "        except:\n",
    "            continue\n",
    "print('Sum is ',sum)\n",
    "print(f'List of numbers is {numl}')"
   ]
  },
  {
   "cell_type": "code",
   "execution_count": null,
   "id": "868f26bd",
   "metadata": {},
   "outputs": [],
   "source": []
  },
  {
   "cell_type": "code",
   "execution_count": null,
   "id": "dd84fd81",
   "metadata": {},
   "outputs": [],
   "source": []
  }
 ],
 "metadata": {
  "kernelspec": {
   "display_name": "Python 3",
   "language": "python",
   "name": "python3"
  },
  "language_info": {
   "codemirror_mode": {
    "name": "ipython",
    "version": 3
   },
   "file_extension": ".py",
   "mimetype": "text/x-python",
   "name": "python",
   "nbconvert_exporter": "python",
   "pygments_lexer": "ipython3",
   "version": "3.8.8"
  }
 },
 "nbformat": 4,
 "nbformat_minor": 5
}
