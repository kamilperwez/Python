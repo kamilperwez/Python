{
 "cells": [
  {
   "cell_type": "code",
   "execution_count": 1,
   "id": "27e2a694",
   "metadata": {},
   "outputs": [
    {
     "name": "stdout",
     "output_type": "stream",
     "text": [
      "helgo40\n"
     ]
    }
   ],
   "source": [
    "print('helgo40')"
   ]
  },
  {
   "cell_type": "code",
   "execution_count": 6,
   "id": "174d5c9f",
   "metadata": {},
   "outputs": [
    {
     "data": {
      "text/plain": [
       "'cdefg'"
      ]
     },
     "execution_count": 6,
     "metadata": {},
     "output_type": "execute_result"
    }
   ],
   "source": [
    "my=\"abcdefghi\"\n",
    "my[2:7:]"
   ]
  },
  {
   "cell_type": "markdown",
   "id": "4564223a",
   "metadata": {},
   "source": [
    "fyi"
   ]
  },
  {
   "cell_type": "code",
   "execution_count": 7,
   "id": "2e11bf86",
   "metadata": {},
   "outputs": [
    {
     "name": "stdout",
     "output_type": "stream",
     "text": [
      "Writing file.txt\n"
     ]
    }
   ],
   "source": [
    "%%writefile file.txt\n",
    "Hello this isme\n",
    "hwo are you"
   ]
  },
  {
   "cell_type": "code",
   "execution_count": 9,
   "id": "2aa07a6f",
   "metadata": {},
   "outputs": [],
   "source": [
    "file=open('file.txt')"
   ]
  },
  {
   "cell_type": "code",
   "execution_count": 10,
   "id": "e2472646",
   "metadata": {},
   "outputs": [
    {
     "data": {
      "text/plain": [
       "'Hello this isme\\nhwo are you\\n'"
      ]
     },
     "execution_count": 10,
     "metadata": {},
     "output_type": "execute_result"
    }
   ],
   "source": [
    "file.read()"
   ]
  },
  {
   "cell_type": "code",
   "execution_count": 11,
   "id": "be54228b",
   "metadata": {},
   "outputs": [
    {
     "data": {
      "text/plain": [
       "0"
      ]
     },
     "execution_count": 11,
     "metadata": {},
     "output_type": "execute_result"
    }
   ],
   "source": [
    "file.seek(0)"
   ]
  },
  {
   "cell_type": "code",
   "execution_count": 12,
   "id": "b2793f7b",
   "metadata": {},
   "outputs": [],
   "source": [
    "file2=file.read()o"
   ]
  },
  {
   "cell_type": "code",
   "execution_count": 13,
   "id": "09ebf1dd",
   "metadata": {},
   "outputs": [
    {
     "data": {
      "text/plain": [
       "'Hello this isme\\nhwo are you\\n'"
      ]
     },
     "execution_count": 13,
     "metadata": {},
     "output_type": "execute_result"
    }
   ],
   "source": [
    "file2"
   ]
  },
  {
   "cell_type": "code",
   "execution_count": 15,
   "id": "e3e5aabb",
   "metadata": {},
   "outputs": [
    {
     "data": {
      "text/plain": [
       "False"
      ]
     },
     "execution_count": 15,
     "metadata": {},
     "output_type": "execute_result"
    }
   ],
   "source": [
    "2/0.5!=4.0"
   ]
  },
  {
   "cell_type": "code",
   "execution_count": 7,
   "id": "74323c02",
   "metadata": {},
   "outputs": [
    {
     "name": "stdout",
     "output_type": "stream",
     "text": [
      "0.8475\n"
     ]
    }
   ],
   "source": [
    "text = \"X-DSPAM-Confidence:    0.8475\"\n",
    "pos=text.find(':')\n",
    "numstring=text[pos+1:]\n",
    "numstring=numstring.replace(\" \",'')\n",
    "num=float(numstring)\n",
    "print(num)"
   ]
  },
  {
   "cell_type": "code",
   "execution_count": 1,
   "id": "6671374f",
   "metadata": {},
   "outputs": [
    {
     "name": "stdout",
     "output_type": "stream",
     "text": [
      "Enter file:\n",
      "Hours Count are :\n",
      "[('04', 3), ('06', 1), ('07', 1), ('09', 2), ('10', 3), ('11', 6), ('14', 1), ('15', 2), ('16', 4), ('17', 2), ('18', 1), ('19', 1)]\n",
      "04 3\n",
      "06 1\n",
      "07 1\n",
      "09 2\n",
      "10 3\n",
      "11 6\n",
      "14 1\n",
      "15 2\n",
      "16 4\n",
      "17 2\n",
      "18 1\n",
      "19 1\n"
     ]
    }
   ],
   "source": [
    "name = input(\"Enter file:\")\n",
    "if len(name) < 1:\n",
    "    name = \"mbox-short.txt\"\n",
    "handle = open(name)\n",
    "wordlist=dict()\n",
    "for line in handle:\n",
    "    line=line.rstrip()\n",
    "    if line.startswith('From '):\n",
    "        words=line.split()\n",
    "        for word in words:\n",
    "            for char in word:\n",
    "                if char == ':':\n",
    "                    wordlist[word[:2]]=wordlist.get(word[:2],0)+1\n",
    "                    break\n",
    "print(\"Hours Count are :\")\n",
    "li=list()\n",
    "for val,key in wordlist.items():\n",
    "    new=(val,key)\n",
    "    li.append(new)\n",
    "rev=(sorted(li))\n",
    "print(rev)\n",
    "for k,v in rev:\n",
    "    print(k,v)\n",
    "\n"
   ]
  },
  {
   "cell_type": "code",
   "execution_count": 2,
   "id": "e5839451",
   "metadata": {},
   "outputs": [
    {
     "name": "stdout",
     "output_type": "stream",
     "text": [
      "Wrong type used\n"
     ]
    }
   ],
   "source": [
    "try:\n",
    "    for i in ['a','b','c']:\n",
    "        print(i**2)\n",
    "except:\n",
    "    print(\"Wrong type used\")"
   ]
  },
  {
   "cell_type": "code",
   "execution_count": 3,
   "id": "e311e5b0",
   "metadata": {},
   "outputs": [
    {
     "name": "stdout",
     "output_type": "stream",
     "text": [
      "Division by zero not possible\n",
      "Finally Done\n"
     ]
    }
   ],
   "source": [
    "x=5\n",
    "y=0\n",
    "try:\n",
    "    z=x/y\n",
    "except:\n",
    "    print(\"Division by zero not possible\")\n",
    "finally:\n",
    "    print(\"Finally Done\")"
   ]
  },
  {
   "cell_type": "code",
   "execution_count": 5,
   "id": "0ebee63e",
   "metadata": {},
   "outputs": [],
   "source": [
    "def ask():\n",
    "    while True:\n",
    "        try:\n",
    "            i=int(input(\"Enter an integer\"))\n",
    "            print(i**2)\n",
    "        except:\n",
    "            print(\"Wrong INPUT\")\n",
    "            continue\n",
    "        else:\n",
    "            print(\"Square Printed\")\n",
    "            break\n",
    "        "
   ]
  },
  {
   "cell_type": "code",
   "execution_count": 6,
   "id": "f8c38a57",
   "metadata": {},
   "outputs": [
    {
     "name": "stdout",
     "output_type": "stream",
     "text": [
      "Enter an integer'\n",
      "Wrong INPUT\n",
      "Enter an integer64\n",
      "4096\n",
      "Square Printed\n"
     ]
    }
   ],
   "source": [
    "ask()"
   ]
  },
  {
   "cell_type": "code",
   "execution_count": 7,
   "id": "6e12edaf",
   "metadata": {},
   "outputs": [
    {
     "name": "stdout",
     "output_type": "stream",
     "text": [
      "['1.The', '10-15', '10.We', '11.The', '12.Creating', '13.Incentives', \"14.Leader's\", '15.A', '16.The', '17.Working', '18.Start-ups', '19.After', '2.Being', '20.Rejection', '21.Sales', '22.Big', \"23.There's\", '24.WE', '24x7', '25.Employee', '26.Internal', '27.Managing', '28.Social', '29.Confidential', '3.If', '30.HR', '31.If', '32.Advertisements', '33.Sourcing', '34.A', '35.A', '36.True', '37.A', '38.If', '39.History', '4.The', '40.We', '5.A', '6.We', '7.We', '8.We', '9.We', 'Bulletin', 'CEOs', 'Ethical', 'FMCG', 'I', 'No', 'Practices', 'Sales', 'Standard', 'Tools', 'a', 'accustomed', 'act', 'activities.', 'adventure', 'after', 'against', 'age', 'also', 'among', 'an', 'and', 'any', 'anybody', 'anything', 'are', 'around', 'as', 'at', 'available.', 'basic', 'basis', 'be', 'because', 'become', 'becomes', 'before', 'beliefs', 'believe', 'believer', 'believers', 'believers,statesman', 'believes', 'better', 'better.', 'brand', 'broken', 'but', 'by', 'can', \"can't\", 'candidates', 'candidates.', 'carry', 'cause', 'change', 'choice', 'clear', 'common', 'companies', 'company', 'company,cause', 'company.Facing', 'compensation.', 'competition', 'complexion.', 'concensus', 'constantly', 'consultancy', 'consumer', 'contributors', 'core', 'corporate', 'day', 'deal', 'decade', 'decide', 'details', 'discussed', 'do', 'do,they', 'do.', 'doing', \"don't\", 'done', 'drive', 'drowsy', 'due', 'dull', 'earliest', 'easily', 'effective', 'efficiently.', 'efforts', 'else', 'ensure', 'environment', 'equivalent', 'essential', 'established', 'ethics', 'everybody.', 'everyday', 'ex', 'example', 'excited', 'experience,everyone', 'fallout', 'favours', 'figure', 'find', 'firms', 'follow', 'following', 'footfalls', 'for', 'from', 'further', 'future', 'getting', 'good', 'great', 'greatest', 'hassles.', 'have', 'having', 'head', 'help', 'highly', 'hiring', 'hiring.', 'how', 'important', 'in', 'increased', 'individual', 'individual.', 'information', 'insist', 'interested', 'into', 'is', 'it', \"it's\", 'it.', 'it.We', 'its', 'just', 'know', 'lead', 'leader', 'learnt', 'lifestyle', 'list', 'long', 'longer', 'lot', 'majority', 'make', 'managed', 'management,the', 'manager', 'managers', 'managing', 'marketing', 'maximum', 'may', 'measured', 'media', 'mediator', 'memories', 'mentioned', 'minds.', 'motivational', 'must', 'need', 'needs', 'never', 'newspapers', 'no', 'not', 'note', 'occur.', 'of', 'office.', 'on', 'once', 'one', 'or', 'order', 'organisation', 'organisation.', 'otherwise', 'our', 'out', 'part', 'particular', 'peers', 'peers.', 'people', \"people's\", 'people,we', 'people.', 'period', 'period.', 'person', 'person.', 'philosophy', 'points', 'politicians.', 'problems.', 'proceedings.', 'product', 'product.', 'product.We', 'progress', 'promotions', 'properly.', 'put', 'quotes.', 'reach', 'reality', 'recipe', 'recruit.', 'recruiting', 'recruits.', 'referral', 'relevant', 'resourceful.', 'right', 'role.', 'run', 'runs', 'sales', 'sales.', 'sales.You', 'script', 'seasoned', 'self', 'sell', 'selling', 'serves', 'set', 'shortcomings', 'should', 'skeleton', 'skill', 'so', 'solve', 'some', 'someone', 'sport.', 'start', 'steorotyping', 'stint', 'strong', 'substantially', 'such', 'suitable', 'take', 'task', 'teach', 'teaches', 'team', 'than', 'that', 'the', 'their', 'they', 'thing', 'through', 'time', 'to', 'tool', 'training', 'transfers', 'true', 'up', 'up.We', 'ups', 'us', 'used', 'very', 'videos:', 'vision', 'want', 'we', 'websites', 'well', 'what', 'when', 'while', 'who', 'will', 'will.', 'with', 'without', 'work', 'work.', 'wrong.', 'years', \"you're\", 'young', 'your']\n"
     ]
    }
   ],
   "source": [
    "fh = open('Kamil Perwez(Internship).txt')\n",
    "lst=list()\n",
    "for line in fh:\n",
    "    line=line.rstrip()\n",
    "    words=line.split()\n",
    "    for key in words:\n",
    "        if key not in lst:\n",
    "            lst.append(key)\n",
    "lst.sort()\n",
    "print(lst)"
   ]
  },
  {
   "cell_type": "code",
   "execution_count": 8,
   "id": "f4994d21",
   "metadata": {},
   "outputs": [
    {
     "name": "stdout",
     "output_type": "stream",
     "text": [
      "I learnt following points from the mentioned videos:\n",
      "\n",
      "1.The greatest people are self managing that is once they know what to do,they will figure how to do.\n",
      "\n",
      "2.Being a leader is having a common vision so that people around us have a concensus on it.\n",
      "\n",
      "3.If you're recruiting for management,the person needs to be highly interested in your product.\n",
      "\n",
      "4.The greatest managers are the great individual contributors who never want to be a manager but decide they have to take up the task cause no one else will.\n",
      "\n",
      "5.A lot of managers or people know what needs to be done but they don't know how to do it.We don't need well seasoned people,we need just great people who are excited for their role.\n",
      "\n",
      "6.We need to have a clear recruiting philosophy  that is for example the right person for selling a particular product.We need to have right recipe for the recruit.\n",
      "\n",
      "7.We need to make the start of the day on a strong note by motivational quotes.\n",
      "\n",
      "8.We need to have a skeleton that is a script to deal with everyday activities.\n",
      "\n",
      "9.We need to have an effective training in order at the office.\n",
      "\n",
      "10.We need to teach the sales people of follow up.We need to have a maximum reach but following ups can also substantially change minds.\n",
      "\n",
      "11.The Sales people's progress should be measured constantly so that we can deal with the shortcomings efficiently.\n",
      "\n",
      "12.Creating Tools with relevant information can teach people 24x7 when we are not available.\n",
      "\n",
      "13.Incentives can drive our sales with increased competition among peers.\n",
      "\n",
      "14.Leader's Bulletin is a must otherwise it's a dull and drowsy environment at the office.\n",
      "\n",
      "15.A Standard of Ethical Sales Practices should be established because in long run our good ethics can lead us to further progress without any complexion.\n",
      "\n",
      "16.The core team at a start up is very important as it serves as the basis for future proceedings.\n",
      "\n",
      "17.Working in a start up is a lifestyle choice and it is a corporate equivalent of an adventure sport.\n",
      "\n",
      "18.Start-ups teach us to be resourceful.\n",
      "\n",
      "19.After a decade of experience,everyone becomes a sales person.\n",
      "\n",
      "20.Rejection is a part of marketing and sales.You become accustomed to No after doing sales.\n",
      "\n",
      "21.Sales teaches us the reality of the consumer and what our team is doing right or wrong.\n",
      "\n",
      "22.Big FMCG companies insist on a sales stint before getting into a brand role.\n",
      "\n",
      "23.There's steorotyping against sales person due to our earliest memories but a majority of CEOs are ex head of sales.\n",
      "\n",
      "24.WE are as good as our product and as good as our company.Facing the reality of sales at young age is better.\n",
      "\n",
      "25.Employee referral can act as a mediator to find suitable candidates.\n",
      "\n",
      "26.Internal hiring can solve us some basic problems.\n",
      "\n",
      "27.Managing promotions and transfers should be discussed with managing peers so that any fallout may not occur.\n",
      "\n",
      "28.Social media hiring is also an effective tool for hiring.\n",
      "\n",
      "29.Confidential details should be managed properly.\n",
      "\n",
      "30.HR consultancy firms can also help us in recruiting a particular skill set of people.\n",
      "\n",
      "31.If we make any tool or any such thing we must ensure footfalls and promotions for it work.\n",
      "\n",
      "32.Advertisements through newspapers and websites can also be used to find relevant recruits.\n",
      "\n",
      "33.Sourcing candidates is essential for an  organisation so that it can carry out its work without any hassles.\n",
      "\n",
      "34.A true believer is better than someone who can sell anything to everybody.\n",
      "\n",
      "35.A true believer believes in the company,cause and product.\n",
      "\n",
      "36.True believers can't be broken while sales person can easily be broken by anybody with better compensation.\n",
      "\n",
      "37.A true believer runs the company for longer period of time for an organisation.\n",
      "\n",
      "38.If we run a company we must have a list of true believers because they will believe in our organisation for a longer period.\n",
      "\n",
      "39.History favours the true believers,statesman against sales person or politicians.\n",
      "\n",
      "40.We need to put our time and efforts to our list of true beliefs because in 10-15 years it will make us a better individual.\n",
      "3954\n",
      "41    3954\n"
     ]
    }
   ],
   "source": [
    "xfile=open('Kamil Perwez(Internship).txt')\n",
    "c,w=0,0\n",
    "for words in xfile:\n",
    "    print(words)\n",
    "    c+=1\n",
    "xfile=open('Kamil Perwez(Internship).txt')    \n",
    "yfile=xfile.read()\n",
    "for char in yfile:\n",
    "    w+=1\n",
    "print(len(yfile))    \n",
    "print(c,'  ',w) "
   ]
  },
  {
   "cell_type": "code",
   "execution_count": null,
   "id": "b5359f34",
   "metadata": {},
   "outputs": [],
   "source": []
  }
 ],
 "metadata": {
  "kernelspec": {
   "display_name": "Python 3",
   "language": "python",
   "name": "python3"
  },
  "language_info": {
   "codemirror_mode": {
    "name": "ipython",
    "version": 3
   },
   "file_extension": ".py",
   "mimetype": "text/x-python",
   "name": "python",
   "nbconvert_exporter": "python",
   "pygments_lexer": "ipython3",
   "version": "3.8.8"
  }
 },
 "nbformat": 4,
 "nbformat_minor": 5
}
