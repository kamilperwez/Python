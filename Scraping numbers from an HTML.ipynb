{
 "cells": [
  {
   "cell_type": "code",
   "execution_count": 5,
   "id": "f4f5df34",
   "metadata": {},
   "outputs": [
    {
     "name": "stdout",
     "output_type": "stream",
     "text": [
      "Enter - https://www.youtube.com/results?search_query=samuelson+model+of+business+cycle\n",
      "SUM IS : 0\n"
     ]
    }
   ],
   "source": [
    "#Scraping Numbers from HTML using BeautifulSoup\n",
    "import urllib.request, urllib.parse, urllib.error\n",
    "from bs4 import BeautifulSoup\n",
    "import ssl\n",
    "\n",
    "# Ignore SSL certificate errors\n",
    "ctx = ssl.create_default_context()\n",
    "ctx.check_hostname = False\n",
    "ctx.verify_mode = ssl.CERT_NONE\n",
    "\n",
    "url = input('Enter - ')\n",
    "html = urllib.request.urlopen(url, context=ctx).read()\n",
    "soup = BeautifulSoup(html, 'html.parser')\n",
    "\n",
    "\n",
    "sum=0\n",
    "# Retrieve all of the span tags\n",
    "tags = soup('span')\n",
    "for tag in tags:\n",
    "    try:\n",
    "        x=int(tag.text)\n",
    "        sum=sum+x\n",
    "    except:\n",
    "        continue\n",
    "       \n",
    "print('SUM IS :',sum)\n",
    "    \n"
   ]
  },
  {
   "cell_type": "code",
   "execution_count": 2,
   "id": "03b694e4",
   "metadata": {},
   "outputs": [
    {
     "name": "stdout",
     "output_type": "stream",
     "text": [
      "Enter - http://py4e-data.dr-chuck.net/comments_1563932.html\n",
      "['comments']\n",
      "['comments']\n",
      "['comments']\n",
      "['comments']\n",
      "['comments']\n",
      "['comments']\n",
      "['comments']\n",
      "['comments']\n",
      "['comments']\n",
      "['comments']\n",
      "['comments']\n",
      "['comments']\n",
      "['comments']\n",
      "['comments']\n",
      "['comments']\n",
      "['comments']\n",
      "['comments']\n",
      "['comments']\n",
      "['comments']\n",
      "['comments']\n",
      "['comments']\n",
      "['comments']\n",
      "['comments']\n",
      "['comments']\n",
      "['comments']\n",
      "['comments']\n",
      "['comments']\n",
      "['comments']\n",
      "['comments']\n",
      "['comments']\n",
      "['comments']\n",
      "['comments']\n",
      "['comments']\n",
      "['comments']\n",
      "['comments']\n",
      "['comments']\n",
      "['comments']\n",
      "['comments']\n",
      "['comments']\n",
      "['comments']\n",
      "['comments']\n",
      "['comments']\n",
      "['comments']\n",
      "['comments']\n",
      "['comments']\n",
      "['comments']\n",
      "['comments']\n",
      "['comments']\n",
      "['comments']\n",
      "['comments']\n",
      "SUM IS : 0\n"
     ]
    }
   ],
   "source": [
    "#Scraping Numbers from HTML using BeautifulSoup\n",
    "#JUST CHECKING OUT\n",
    "import urllib.request, urllib.parse, urllib.error\n",
    "from bs4 import BeautifulSoup\n",
    "import ssl\n",
    "\n",
    "# Ignore SSL certificate errors\n",
    "ctx = ssl.create_default_context()\n",
    "ctx.check_hostname = False\n",
    "ctx.verify_mode = ssl.CERT_NONE\n",
    "\n",
    "url = input('Enter - ')\n",
    "html = urllib.request.urlopen(url, context=ctx).read()\n",
    "soup = BeautifulSoup(html, 'html.parser')\n",
    "\n",
    "\n",
    "sum=0\n",
    "# Retrieve all of the span tags\n",
    "tags = soup('span')\n",
    "for tag in tags:\n",
    "    x=tag.get('class',0)\n",
    "    print(x)\n",
    "    \n",
    "       \n",
    "print('SUM IS :',sum)\n",
    "    \n"
   ]
  },
  {
   "cell_type": "code",
   "execution_count": null,
   "id": "f5101a9b",
   "metadata": {},
   "outputs": [],
   "source": []
  }
 ],
 "metadata": {
  "kernelspec": {
   "display_name": "Python 3",
   "language": "python",
   "name": "python3"
  },
  "language_info": {
   "codemirror_mode": {
    "name": "ipython",
    "version": 3
   },
   "file_extension": ".py",
   "mimetype": "text/x-python",
   "name": "python",
   "nbconvert_exporter": "python",
   "pygments_lexer": "ipython3",
   "version": "3.8.8"
  }
 },
 "nbformat": 4,
 "nbformat_minor": 5
}
