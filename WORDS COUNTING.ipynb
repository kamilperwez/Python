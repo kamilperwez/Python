{
 "cells": [
  {
   "cell_type": "code",
   "execution_count": 1,
   "id": "9acbd526",
   "metadata": {},
   "outputs": [],
   "source": [
    "#function to open and read through a file and count the number of sender mailing addresses\n",
    "def countWords():\n",
    "    name = input(\"Enter file:\")\n",
    "    if len(name) < 1:\n",
    "        name = \"mbox-short.txt\"\n",
    "    handle = open(name)\n",
    "\n",
    "    wordlist=dict()\n",
    "    print('Counting words...')\n",
    "    for line in handle:\n",
    "        line=line.rstrip()\n",
    "        if line.startswith('From '):\n",
    "            words=line.split()\n",
    "            wordlist[words[1]]=wordlist.get(words[1],0)+1\n",
    "    maxcount,maxword=0,'None'\n",
    "    print(\"Words Count are :\")\n",
    "    for key,val in wordlist.items():\n",
    "        print(key,val)\n",
    "        if maxcount < val:\n",
    "            maxcount=val\n",
    "            maxword=key\n",
    "        else:\n",
    "            continue\n",
    "    print('Word -',maxword,' is repeated maximum ',maxcount,' times')\n",
    "\n",
    "    "
   ]
  },
  {
   "cell_type": "code",
   "execution_count": 2,
   "id": "b8a2935a",
   "metadata": {},
   "outputs": [
    {
     "name": "stdout",
     "output_type": "stream",
     "text": [
      "Enter file:\n",
      "Counting words...\n",
      "Words Count are :\n",
      "stephen.marquard@uct.ac.za 2\n",
      "louis@media.berkeley.edu 3\n",
      "zqian@umich.edu 4\n",
      "rjlowe@iupui.edu 2\n",
      "cwen@iupui.edu 5\n",
      "gsilver@umich.edu 3\n",
      "wagnermr@iupui.edu 1\n",
      "antranig@caret.cam.ac.uk 1\n",
      "gopal.ramasammycook@gmail.com 1\n",
      "david.horwitz@uct.ac.za 4\n",
      "ray@media.berkeley.edu 1\n",
      "Word - cwen@iupui.edu  is repeated maximum  5  times\n"
     ]
    }
   ],
   "source": [
    "countWords()"
   ]
  },
  {
   "cell_type": "code",
   "execution_count": null,
   "id": "460e8b3d",
   "metadata": {},
   "outputs": [],
   "source": []
  }
 ],
 "metadata": {
  "kernelspec": {
   "display_name": "Python 3",
   "language": "python",
   "name": "python3"
  },
  "language_info": {
   "codemirror_mode": {
    "name": "ipython",
    "version": 3
   },
   "file_extension": ".py",
   "mimetype": "text/x-python",
   "name": "python",
   "nbconvert_exporter": "python",
   "pygments_lexer": "ipython3",
   "version": "3.8.8"
  }
 },
 "nbformat": 4,
 "nbformat_minor": 5
}
